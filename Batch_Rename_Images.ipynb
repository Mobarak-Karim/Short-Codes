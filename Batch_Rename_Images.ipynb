{
 "cells": [
  {
   "cell_type": "markdown",
   "metadata": {},
   "source": [
    "## Resizing each image in the folder"
   ]
  },
  {
   "cell_type": "code",
   "execution_count": 25,
   "metadata": {},
   "outputs": [
    {
     "name": "stdout",
     "output_type": "stream",
     "text": [
      "label\\Image__2017-08-30__13-56-44-M.jpg\n",
      "(1626, 1236)\n",
      "label\\Image__2017-08-30__16-52-33-M.jpg\n",
      "(1626, 1236)\n",
      "label\\Image__2017-08-30__16-53-00-M.jpg\n",
      "(1626, 1236)\n",
      "label\\Image__2017-08-30__16-53-27-M.jpg\n",
      "(1626, 1236)\n",
      "label\\Image__2017-10-20__09-41-39-M.jpg\n",
      "(1626, 1236)\n",
      "label\\Image__2017-10-20__09-42-36-M.jpg\n",
      "(1626, 1236)\n",
      "label\\Image__2017-11-29__15-11-26-M.jpg\n",
      "(1626, 1236)\n",
      "label\\Image__2017-11-29__15-25-21-M.jpg\n",
      "(1626, 1236)\n",
      "label\\Image__2017-12-07__11-01-34-M.jpg\n",
      "(1626, 1236)\n",
      "label\\Image__2017-12-07__11-02-16-M.jpg\n",
      "(1626, 1236)\n",
      "label\\Image__2017-12-07__11-02-49-M.jpg\n",
      "(1626, 1236)\n",
      "label\\Image__2017-12-13__14-23-38-M.jpg\n",
      "(1626, 1236)\n",
      "label\\Image__2017-12-13__14-24-36-M.jpg\n",
      "(1626, 1236)\n",
      "label\\Image__2017-12-22__10-13-36-M.jpg\n",
      "(1626, 1236)\n",
      "label\\Image__2017-12-22__10-14-08-M.jpg\n",
      "(1626, 1236)\n",
      "label\\Image__2017-12-26__16-08-46-M.jpg\n",
      "(1626, 1236)\n",
      "label\\Image__2017-12-27__16-06-16-M.jpg\n",
      "(1626, 1236)\n",
      "label\\Image__2017-12-27__16-06-41-M.jpg\n",
      "(1626, 1236)\n",
      "label\\Image__2017-12-28__11-27-37-M.jpg\n",
      "(1626, 1236)\n",
      "label\\Image__2017-12-28__11-28-45-M.jpg\n",
      "(1626, 1236)\n",
      "label\\Image__2017-12-28__11-44-39-M.jpg\n",
      "(1626, 1236)\n",
      "label\\Image__2018-01-02__14-14-00-M.jpg\n",
      "(1626, 1236)\n",
      "label\\Image__2018-01-02__15-32-44-M.jpg\n",
      "(1626, 1236)\n",
      "label\\Image__2018-01-04__09-28-55-M.jpg\n",
      "(1626, 1236)\n",
      "label\\Image__2018-01-04__09-29-18-M.jpg\n",
      "(1626, 1236)\n",
      "label\\Image__2018-01-05__09-04-37-M.jpg\n",
      "(1626, 1236)\n",
      "label\\Image__2018-01-09__15-41-49-M.jpg\n",
      "(1626, 1236)\n",
      "label\\Image__2018-01-09__15-42-35-M.jpg\n",
      "(1626, 1236)\n",
      "label\\Image__2018-01-10__16-12-33-M.jpg\n",
      "(1626, 1236)\n",
      "label\\Image__2018-01-16__15-57-22-M.jpg\n",
      "(1626, 1236)\n"
     ]
    },
    {
     "data": {
      "image/png": "[encoded data removed]",
      "text/plain": [
       "<Figure size 432x288 with 1 Axes>"
      ]
     },
     "metadata": {
      "needs_background": "light"
     },
     "output_type": "display_data"
    }
   ],
   "source": [
    "import cv2\n",
    "import matplotlib.pyplot as mpimage\n",
    "import glob\n",
    "from PIL import Image\n",
    "\n",
    "i = 0\n",
    "\n",
    "for filename in glob.glob(\"label/*.jpg\"):\n",
    "    print(filename)\n",
    "    img = mpimage.imread(filename)\n",
    "    im = Image.fromarray(img)\n",
    "    print(im.size)\n",
    "    mpimage.imshow(im)\n",
    "    im.save(f\"label/{str(i)}.jpg\")\n",
    "    i = i+1"
   ]
  },
  {
   "cell_type": "code",
   "execution_count": null,
   "metadata": {},
   "outputs": [],
   "source": []
  }
 ],
 "metadata": {
  "kernelspec": {
   "display_name": "Python 3.6 (tensorflow)",
   "language": "python",
   "name": "tensorflow"
  },
  "language_info": {
   "codemirror_mode": {
    "name": "ipython",
    "version": 3
   },
   "file_extension": ".py",
   "mimetype": "text/x-python",
   "name": "python",
   "nbconvert_exporter": "python",
   "pygments_lexer": "ipython3",
   "version": "3.6.8"
  }
 },
 "nbformat": 4,
 "nbformat_minor": 2
}
