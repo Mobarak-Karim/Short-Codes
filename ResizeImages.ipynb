{
 "cells": [
  {
   "cell_type": "markdown",
   "metadata": {},
   "source": [
    "# Ripon Custom Function to convert to Grayscale and Aspect Crop"
   ]
  },
  {
   "cell_type": "markdown",
   "metadata": {},
   "source": [
    "## Displaying all images with plot andd subplot"
   ]
  },
  {
   "cell_type": "code",
   "execution_count": null,
   "metadata": {
    "scrolled": false
   },
   "outputs": [],
   "source": [
    "# importing matplotlib modules \n",
    "import time\n",
    "import cv2\n",
    "import matplotlib.image as mpimg \n",
    "import matplotlib.pyplot as plt \n",
    "import os\n",
    "  \n",
    "# Read Images\n",
    "fig=plt.figure(figsize=(18, 12))\n",
    "\n",
    "for i in range(1, 31):\n",
    "    img = mpimg.imread(\"ImageCompare/0a/\" +str(i-1)+ \".jpg\")\n",
    "    #print(img.shape)\n",
    "    # gray = cv2.cvtColor(image, cv2.COLOR_BGR2GRAY)\n",
    "    \"\"\"img_size = len(img.shape)\n",
    "    if img_size==3:\n",
    "        img = cv2.cvtColor(img, cv2.COLOR_BGR2GRAY)\n",
    "    fig.add_subplot(5,6,i)\n",
    "    plt.imshow(img)\n",
    "    \"\"\"\n",
    "    #print(img.shape)\n",
    "    \n",
    "    #save the 2D image\n",
    "    #img.save(path+\"res/\"+str(i-1)+extention)\n",
    "# Output Images \n",
    "#print(img.shape)"
   ]
  },
  {
   "cell_type": "markdown",
   "metadata": {},
   "source": [
    "# #Defining a function for Resizing "
   ]
  },
  {
   "cell_type": "code",
   "execution_count": null,
   "metadata": {},
   "outputs": [],
   "source": [
    "from PIL import Image\n",
    "import cv2\n",
    "\n",
    "def resizeGlandImage(image):\n",
    "    # image  = Image.open(name)\n",
    "    #print(\"Image shape before converting = \", image.shape)\n",
    "    image = Image.fromarray(image)\n",
    "    #print(\"Image shape After converting = \", image.shape)\n",
    "    \n",
    "    width, height = image.size\n",
    "    #plt.imshow(image)\n",
    "    #width, height = image.shape\n",
    "    #print(width, \" \", height)\n",
    "\n",
    "    if width > height:\n",
    "        difference = width - height\n",
    "        offset     = difference / 2\n",
    "        resize     = (offset, 0, width - offset, height)\n",
    "\n",
    "    else:\n",
    "        difference = height - width\n",
    "        offset     = difference / 2\n",
    "        resize     = (0, offset, width, height - offset)\n",
    "\n",
    "    thumb = image.crop(resize).resize((512, 512), Image.BICUBIC)\n",
    "    return thumb;\n",
    "    #thumb.save(savename)"
   ]
  },
  {
   "cell_type": "markdown",
   "metadata": {},
   "source": [
    "## Defining Function for Grayscale"
   ]
  },
  {
   "cell_type": "code",
   "execution_count": null,
   "metadata": {},
   "outputs": [],
   "source": [
    "import cv2\n",
    "def ifRGBthenGray(img):\n",
    "    imggr = img\n",
    "    if(img.size==3):\n",
    "        imggr = cv2.cvtColor(img, cv2.COLOR_BGR2GRAY)\n",
    "    #print(f\"Returning {imggr.size} image\")\n",
    "    return imggr"
   ]
  },
  {
   "cell_type": "markdown",
   "metadata": {},
   "source": [
    "## Just Some code to check if function is working"
   ]
  },
  {
   "cell_type": "code",
   "execution_count": null,
   "metadata": {},
   "outputs": [],
   "source": [
    "import cv2\n",
    "img = mpimg.imread(\"ImageCompare/0b/\"+str(0)+\".jpg\")\n",
    "gray = ifRGBthenGray(img)\n",
    "crop = resizeGlandImage(gray)\n",
    "plt.imshow(crop)\n",
    "print(crop.size)"
   ]
  },
  {
   "cell_type": "markdown",
   "metadata": {},
   "source": [
    "## Loop to resize and make grayscale"
   ]
  },
  {
   "cell_type": "code",
   "execution_count": null,
   "metadata": {},
   "outputs": [],
   "source": [
    "# importing matplotlib modules \n",
    "import os\n",
    "import cv2\n",
    "import matplotlib.image as mpimg \n",
    "import matplotlib.pyplot as plt \n",
    "  \n",
    "# Read Images\n",
    "fig=plt.figure(figsize=(18, 12))\n",
    "\n",
    "#path = \"data/All_60_image/2nd 30/label/\"\n",
    "path = \"ImageCompare/0b/\"\n",
    "extention = \".jpg\"\n",
    "NewFName = \"res\"\n",
    "\n",
    "if not os.path.exists(path+NewFName):\n",
    "    os.mkdir(path+NewFName)\n",
    "\n",
    "for x in range(1, 31):\n",
    "    img = mpimg.imread(path+str(x-1)+extention)\n",
    "    crop = resizeGlandImage(img)\n",
    "    gray = ifRGBthenGray(crop)\n",
    "    gray.save(path+\"res/\"+str(x-1)+extention)\n",
    "    print(gray.size)\n",
    "    # Output Images \n",
    "print(\"Conver is complete\")"
   ]
  },
  {
   "cell_type": "code",
   "execution_count": 6,
   "metadata": {},
   "outputs": [
    {
     "name": "stdout",
     "output_type": "stream",
     "text": [
      "(512, 512, 3) uint8 786432\n",
      "(512, 512, 3) uint8 786432\n",
      "(512, 512, 3) uint8 786432\n",
      "(512, 512, 3) uint8 786432\n",
      "(512, 512, 3) uint8 786432\n",
      "(512, 512, 3) uint8 786432\n",
      "(512, 512, 3) uint8 786432\n",
      "(512, 512, 3) uint8 786432\n",
      "(512, 512, 3) uint8 786432\n",
      "(512, 512, 3) uint8 786432\n",
      "(512, 512, 3) uint8 786432\n",
      "(512, 512, 3) uint8 786432\n",
      "(512, 512, 3) uint8 786432\n",
      "(512, 512, 3) uint8 786432\n",
      "(512, 512, 3) uint8 786432\n",
      "(512, 512, 3) uint8 786432\n",
      "(512, 512, 3) uint8 786432\n",
      "(512, 512, 3) uint8 786432\n",
      "(512, 512, 3) uint8 786432\n",
      "(512, 512, 3) uint8 786432\n",
      "(512, 512, 3) uint8 786432\n",
      "(512, 512, 3) uint8 786432\n",
      "(512, 512, 3) uint8 786432\n",
      "(512, 512, 3) uint8 786432\n",
      "(512, 512, 3) uint8 786432\n",
      "(512, 512, 3) uint8 786432\n",
      "(512, 512, 3) uint8 786432\n",
      "(512, 512, 3) uint8 786432\n",
      "(512, 512, 3) uint8 786432\n",
      "(512, 512, 3) uint8 786432\n",
      "Conver is complete\n"
     ]
    }
   ],
   "source": [
    "# importing matplotlib modules \n",
    "import os\n",
    "import cv2\n",
    "import matplotlib.image as mpimg \n",
    "import matplotlib.pyplot as plt \n",
    "\n",
    "path = \"ImageCompare/0a/\"\n",
    "extention = \".jpg\"\n",
    "NewFName = \"resi\"\n",
    "\n",
    "for i in range(1, 31):\n",
    "    img = cv2.imread(path+str(i-1)+extention)\n",
    "    print(img.shape, img.dtype, img.size)\n",
    "print(\"Conver is complete\")"
   ]
  },
  {
   "cell_type": "code",
   "execution_count": null,
   "metadata": {},
   "outputs": [],
   "source": []
  }
 ],
 "metadata": {
  "celltoolbar": "Raw Cell Format",
  "kernelspec": {
   "display_name": "Python 3.6 (tensorflow)",
   "language": "python",
   "name": "tensorflow"
  },
  "language_info": {
   "codemirror_mode": {
    "name": "ipython",
    "version": 3
   },
   "file_extension": ".py",
   "mimetype": "text/x-python",
   "name": "python",
   "nbconvert_exporter": "python",
   "pygments_lexer": "ipython3",
   "version": "3.6.8"
  }
 },
 "nbformat": 4,
 "nbformat_minor": 2
}
