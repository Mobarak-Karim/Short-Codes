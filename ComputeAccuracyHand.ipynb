{
 "cells": [
  {
   "cell_type": "markdown",
   "metadata": {},
   "source": [
    "# Compute Accuracy by Comparing Images Pixels"
   ]
  },
  {
   "cell_type": "code",
   "execution_count": 1,
   "metadata": {},
   "outputs": [],
   "source": [
    "import cv2\n",
    "import matplotlib.pyplot as plt\n",
    "import matplotlib.image as mpimage\n",
    "import numpy as np\n",
    "import os"
   ]
  },
  {
   "cell_type": "markdown",
   "metadata": {},
   "source": [
    "## Making a function to compare 2 images pixel by Pixel"
   ]
  },
  {
   "cell_type": "code",
   "execution_count": 15,
   "metadata": {},
   "outputs": [],
   "source": [
    "def ImageComparePixel(name, ima, imb):\n",
    "    name = \"Name_\"+name\n",
    "    imga = cv2.imread(ima)\n",
    "    imgb = cv2.imread(imb)\n",
    "    #print(imga.shape)\n",
    "    # print(imga)\n",
    "    im00 = 0\n",
    "    im01 = 0\n",
    "    im10 = 0\n",
    "    im11 = 0\n",
    "    sum = 0\n",
    "    threshold = 200\n",
    "    width, height, ch= imga.shape\n",
    "    #if(imga.shape!=imgb.size):\n",
    "    #    print(\"The size of those image is not same\")\n",
    "        \n",
    "    for i in range(0, height):\n",
    "        for j in range(0, width):\n",
    "            if imga[i][j][0]>threshold and imgb[i][j][0]>threshold:\n",
    "                im11=im11+1\n",
    "            elif (imga[i][j][0]>threshold) and (imgb[i][j][0]<=threshold):\n",
    "                im10+=1\n",
    "            elif (imga[i][j][0]<=threshold) and (imgb[i][j][0]>threshold):\n",
    "                im01+=1\n",
    "            else:\n",
    "                im00=im00+1\n",
    "\n",
    "            #print(imga[i][j], \"-\", imgb[i][j], end=\" | \")\n",
    "\n",
    "    # print(\"A11 = \", im11, \"  A10 = \", im10, \"  A01 = \", im01, \"  A00 = \", im00)\n",
    "    print(f\"{name}\\t{im11}\\t{im10}\\t{im01}\\t{im00}\\t\")\n"
   ]
  },
  {
   "cell_type": "markdown",
   "metadata": {},
   "source": [
    "## Loop through two folder to compare each images"
   ]
  },
  {
   "cell_type": "code",
   "execution_count": 16,
   "metadata": {},
   "outputs": [
    {
     "name": "stdout",
     "output_type": "stream",
     "text": [
      "ImaName\tData11\tData10\tData01\tData00\t\n",
      "Name_0\t238628\t6953\t3933\t12630\t\n",
      "Name_1\t235186\t7235\t5909\t13814\t\n",
      "Name_2\t235734\t4267\t10958\t11185\t\n",
      "Name_3\t221517\t8123\t15768\t16736\t\n",
      "Name_4\t217672\t7949\t17939\t18584\t\n",
      "Name_5\t239691\t3213\t9571\t9669\t\n",
      "Name_6\t237020\t8397\t5826\t10901\t\n",
      "Name_7\t235199\t4115\t12043\t10787\t\n",
      "Name_8\t248530\t3228\t5961\t4425\t\n",
      "Name_9\t241835\t3306\t9305\t7698\t\n",
      "Name_10\t226586\t7113\t12591\t15854\t\n",
      "Name_11\t236887\t3169\t10630\t11458\t\n",
      "Name_12\t243087\t5574\t3684\t9799\t\n",
      "Name_13\t239091\t2459\t8915\t11679\t\n",
      "Name_14\t245075\t2285\t7103\t7681\t\n",
      "Name_15\t239423\t2172\t11976\t8573\t\n",
      "Name_16\t234225\t9742\t8813\t9364\t\n",
      "Name_17\t240671\t4822\t6869\t9782\t\n",
      "Name_18\t246858\t3321\t6869\t5096\t\n",
      "Name_19\t234637\t7811\t9242\t10454\t\n",
      "Name_20\t240407\t5710\t7236\t8791\t\n",
      "Name_21\t239825\t6217\t8726\t7376\t\n",
      "Name_22\t244619\t2195\t9495\t5835\t\n",
      "Name_23\t231141\t7610\t11023\t12370\t\n",
      "Name_24\t245234\t7534\t4593\t4783\t\n",
      "Name_25\t247028\t4000\t5683\t5433\t\n",
      "Name_26\t240435\t4678\t9057\t7974\t\n",
      "Name_27\t241687\t4814\t6839\t8804\t\n",
      "Name_28\t244196\t7830\t2696\t7422\t\n",
      "Name_29\t239958\t5120\t9206\t7860\t\n"
     ]
    }
   ],
   "source": [
    "print(f\"ImaName\\tData11\\tData10\\tData01\\tData00\\t\")\n",
    "p1 = \"ImageCompare\\\\0a\\\\\"\n",
    "p2 = \"ImageCompare\\\\0b\\\\\"\n",
    "\n",
    "for x in range(0, 30):\n",
    "    #print(p1+str(x)+\".jpg\")\n",
    "    #print(p2+str(x)+\".jpg\")\n",
    "    ImageComparePixel(str(x), p1+str(x)+\".jpg\", p2+str(x)+\".jpg\")"
   ]
  },
  {
   "cell_type": "code",
   "execution_count": null,
   "metadata": {},
   "outputs": [],
   "source": [
    "import os\n",
    "import cv2\n",
    "import matplotlib.image as mpimg \n",
    "import matplotlib.pyplot as plt \n",
    "from PIL import Image\n",
    "\n",
    "\n",
    "for x in range(0,31):\n",
    "    img5 = Image.open(\"ImageCompare/0a/\"+str(x)+\".jpg\").convert('LA')\n",
    "    img5.save(\"ImageCompare/0a/sata/1.jpg\")\n",
    "    \n",
    "    \"\"\"\n",
    "    img = mpimg.imread(\"ImageCompare/0a/\"+str(x)+\".jpg\");\n",
    "    print(img.shape)\n",
    "    img1 = cv2.cvtColor(img, cv2.COLOR_BGR2GRAY)\n",
    "    print(img1.shape)\n",
    "    img1.save(\"ImageCompare/0a/sata/1.jpg\")\n",
    "    \"\"\""
   ]
  },
  {
   "cell_type": "code",
   "execution_count": null,
   "metadata": {},
   "outputs": [],
   "source": []
  }
 ],
 "metadata": {
  "kernelspec": {
   "display_name": "Python 3.6 (tensorflow)",
   "language": "python",
   "name": "tensorflow"
  },
  "language_info": {
   "codemirror_mode": {
    "name": "ipython",
    "version": 3
   },
   "file_extension": ".py",
   "mimetype": "text/x-python",
   "name": "python",
   "nbconvert_exporter": "python",
   "pygments_lexer": "ipython3",
   "version": "3.6.8"
  }
 },
 "nbformat": 4,
 "nbformat_minor": 2
}
