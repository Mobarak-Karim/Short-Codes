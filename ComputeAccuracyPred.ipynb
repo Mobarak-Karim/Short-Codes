{
 "cells": [
  {
   "cell_type": "markdown",
   "metadata": {},
   "source": [
    "# Compute Accuracy by Comparing Images Pixels"
   ]
  },
  {
   "cell_type": "code",
   "execution_count": 17,
   "metadata": {},
   "outputs": [],
   "source": [
    "import cv2\n",
    "import matplotlib.pyplot as plt\n",
    "import matplotlib.image as mpimage\n",
    "import numpy as np"
   ]
  },
  {
   "cell_type": "markdown",
   "metadata": {},
   "source": [
    "## Making a function to compare 2 images pixel by Pixel"
   ]
  },
  {
   "cell_type": "code",
   "execution_count": 86,
   "metadata": {},
   "outputs": [],
   "source": [
    "def ImageComparePixel(name, ima, imb):\n",
    "    imga = mpimage.imread(ima)\n",
    "    imgb = mpimage.imread(imb)\n",
    "    #print(type(img))\n",
    "    im00 = 0\n",
    "    im01 = 0\n",
    "    im10 = 0\n",
    "    im11 = 0\n",
    "    sum = 0\n",
    "    width, height = img.shape\n",
    "    for i in range(0, height):\n",
    "        for j in range(0, width):\n",
    "            if imga[i][j]>0.5 and imgb[i][j]>0.5:\n",
    "                im11=im11+1\n",
    "            elif (imga[i][j]>0.5) and (imgb[i][j]<=0.5):\n",
    "                im10+=1\n",
    "            elif (imga[i][j]<=0.5) and (imgb[i][j]>0.5):\n",
    "                im01+=1\n",
    "            else:\n",
    "                im00=im00+1\n",
    "\n",
    "            #print(imga[i][j], \"-\", imgb[i][j], end=\" | \")\n",
    "\n",
    "    # print(\"A11 = \", im11, \"  A10 = \", im10, \"  A01 = \", im01, \"  A00 = \", im00)\n",
    "    print(f\"{name}\\t{im11}\\t{im10}\\t{im01}\\t{im00}\\t\")\n"
   ]
  },
  {
   "cell_type": "code",
   "execution_count": 87,
   "metadata": {},
   "outputs": [
    {
     "name": "stdout",
     "output_type": "stream",
     "text": [
      "Haha4\n"
     ]
    }
   ],
   "source": [
    "print(f\"Haha{2+2}\")"
   ]
  },
  {
   "cell_type": "markdown",
   "metadata": {},
   "source": [
    "## Loop through two folder to compare each images"
   ]
  },
  {
   "cell_type": "code",
   "execution_count": 88,
   "metadata": {},
   "outputs": [
    {
     "name": "stdout",
     "output_type": "stream",
     "text": [
      "Image_Name\tData11\tData10\tData01\tData00\t\n",
      "0_predict\t62914\t437\t1080\t1105\t\n",
      "1_predict\t59701\t1173\t2271\t2391\t\n",
      "2_predict\t59256\t1702\t1462\t3116\t\n",
      "3_predict\t60989\t741\t1529\t2277\t\n",
      "4_predict\t61406\t538\t1505\t2087\t\n",
      "5_predict\t60592\t1138\t1552\t2254\t\n",
      "6_predict\t57209\t1627\t2557\t4143\t\n",
      "7_predict\t58433\t771\t3494\t2838\t\n",
      "8_predict\t55359\t1308\t4273\t4596\t\n",
      "9_predict\t56784\t1388\t3137\t4227\t\n",
      "10_predict\t58935\t1189\t2373\t3039\t\n",
      "11_predict\t55496\t871\t4004\t5165\t\n",
      "12_predict\t57652\t948\t3453\t3483\t\n",
      "13_predict\t59953\t1122\t1956\t2505\t\n",
      "14_predict\t61112\t555\t2031\t1838\t\n",
      "15_predict\t63295\t770\t1174\t297\t\n",
      "16_predict\t59001\t1029\t3248\t2258\t\n",
      "17_predict\t62107\t1051\t1419\t959\t\n",
      "18_predict\t61271\t776\t1845\t1644\t\n",
      "19_predict\t59648\t491\t2839\t2558\t\n",
      "20_predict\t61812\t586\t1729\t1409\t\n",
      "21_predict\t58405\t788\t2881\t3462\t\n",
      "22_predict\t61699\t388\t1795\t1654\t\n",
      "23_predict\t59793\t699\t2061\t2983\t\n",
      "24_predict\t60474\t1030\t1923\t2109\t\n",
      "25_predict\t55989\t1596\t3262\t4689\t\n",
      "26_predict\t55974\t1485\t3848\t4229\t\n",
      "27_predict\t62709\t601\t1065\t1161\t\n",
      "28_predict\t63433\t265\t927\t911\t\n",
      "29_predict\t57515\t1051\t3068\t3902\t\n"
     ]
    }
   ],
   "source": [
    "print(f\"Image_Name\\tData11\\tData10\\tData01\\tData00\\t\")\n",
    "for x in range(0, 30):\n",
    "    ImageComparePixel(str(x)+\"_predict\", \"ImageCompare/0a_predict/\"+str(x)+\"_predict.png\", \"ImageCompare/0b_predict/\"+str(x)+\"_predict.png\")"
   ]
  },
  {
   "cell_type": "code",
   "execution_count": null,
   "metadata": {},
   "outputs": [],
   "source": []
  }
 ],
 "metadata": {
  "kernelspec": {
   "display_name": "Python 3.6 (tensorflow)",
   "language": "python",
   "name": "tensorflow"
  },
  "language_info": {
   "codemirror_mode": {
    "name": "ipython",
    "version": 3
   },
   "file_extension": ".py",
   "mimetype": "text/x-python",
   "name": "python",
   "nbconvert_exporter": "python",
   "pygments_lexer": "ipython3",
   "version": "3.6.8"
  }
 },
 "nbformat": 4,
 "nbformat_minor": 2
}
